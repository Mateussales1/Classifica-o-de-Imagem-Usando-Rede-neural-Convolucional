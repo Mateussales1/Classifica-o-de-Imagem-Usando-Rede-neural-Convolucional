{
  "nbformat": 4,
  "nbformat_minor": 0,
  "metadata": {
    "colab": {
      "name": "Classificação de Imagem Usando Rede neural Convolucional.ipynb",
      "provenance": []
    },
    "kernelspec": {
      "name": "python3",
      "display_name": "Python 3"
    },
    "language_info": {
      "name": "python"
    }
  },
  "cells": [
    {
      "cell_type": "code",
      "metadata": {
        "id": "kCWmv3goPZAF"
      },
      "source": [
        "import tensorflow as tf\n",
        "from tensorflow.keras import datasets, layers, models\n",
        "import matplotlib.pyplot as plt\n",
        "import numpy as np"
      ],
      "execution_count": null,
      "outputs": []
    },
    {
      "cell_type": "code",
      "metadata": {
        "colab": {
          "base_uri": "https://localhost:8080/"
        },
        "id": "pf2XbewUPclY",
        "outputId": "abd9713d-f941-4b73-f2c6-055d10f3b02e"
      },
      "source": [
        "#Carregando a base de dados CFAR10 e verificando-a\n",
        "#O treino possui 50000 amostras, de 32x32 pixels e 3 tonalidades de cores (RGB)\n",
        "(X_train, y_train), (X_test,y_test) = datasets.cifar10.load_data()\n",
        "X_train.shape"
      ],
      "execution_count": null,
      "outputs": [
        {
          "output_type": "execute_result",
          "data": {
            "text/plain": [
              "(50000, 32, 32, 3)"
            ]
          },
          "metadata": {
            "tags": []
          },
          "execution_count": 25
        }
      ]
    },
    {
      "cell_type": "code",
      "metadata": {
        "colab": {
          "base_uri": "https://localhost:8080/"
        },
        "id": "Bp4INCG5Pcqo",
        "outputId": "0a903f58-973e-40c9-9682-cf6db1d08f47"
      },
      "source": [
        "#O teste já possui 10000 amostras, de 32x32 pixels e 3 tonalidades de cores (RGB)\n",
        "X_test.shape"
      ],
      "execution_count": null,
      "outputs": [
        {
          "output_type": "execute_result",
          "data": {
            "text/plain": [
              "(10000, 32, 32, 3)"
            ]
          },
          "metadata": {
            "tags": []
          },
          "execution_count": 26
        }
      ]
    },
    {
      "cell_type": "code",
      "metadata": {
        "colab": {
          "base_uri": "https://localhost:8080/"
        },
        "id": "bfhjJO9LPctg",
        "outputId": "50361b03-e1f2-4633-bd64-655c6fa81718"
      },
      "source": [
        "y_train.shape"
      ],
      "execution_count": null,
      "outputs": [
        {
          "output_type": "execute_result",
          "data": {
            "text/plain": [
              "(50000, 1)"
            ]
          },
          "metadata": {
            "tags": []
          },
          "execution_count": 27
        }
      ]
    },
    {
      "cell_type": "code",
      "metadata": {
        "colab": {
          "base_uri": "https://localhost:8080/"
        },
        "id": "sZWBKu4hPcwQ",
        "outputId": "ad445612-75ec-4b39-d24a-d750c2b7fa24"
      },
      "source": [
        "#Verificando as 5 primeiras amostras\n",
        "y_train[:5]"
      ],
      "execution_count": null,
      "outputs": [
        {
          "output_type": "execute_result",
          "data": {
            "text/plain": [
              "array([[6],\n",
              "       [9],\n",
              "       [9],\n",
              "       [4],\n",
              "       [1]], dtype=uint8)"
            ]
          },
          "metadata": {
            "tags": []
          },
          "execution_count": 28
        }
      ]
    },
    {
      "cell_type": "code",
      "metadata": {
        "colab": {
          "base_uri": "https://localhost:8080/"
        },
        "id": "Z9ufaFVEPcy4",
        "outputId": "2f6d100a-580c-4a62-8456-355833f2a4aa"
      },
      "source": [
        "#Remodelando um matriz bidimensional em unidimensional para que o elemento\n",
        "#não seja um um elemento dentro de duas arrays ([[1],[2]...]), apenas um número simples em \n",
        "# um array ([1, 2...])\n",
        "\n",
        "y_train = y_train.reshape(-1,)\n",
        "y_train[:5]"
      ],
      "execution_count": null,
      "outputs": [
        {
          "output_type": "execute_result",
          "data": {
            "text/plain": [
              "array([6, 9, 9, 4, 1], dtype=uint8)"
            ]
          },
          "metadata": {
            "tags": []
          },
          "execution_count": 29
        }
      ]
    },
    {
      "cell_type": "code",
      "metadata": {
        "id": "BbU95H8hPc1Y"
      },
      "source": [
        "y_test = y_test.reshape(-1,)"
      ],
      "execution_count": null,
      "outputs": []
    },
    {
      "cell_type": "code",
      "metadata": {
        "id": "VLbvPggXPc4A"
      },
      "source": [
        "classes = [\"Avião\", \"Automóvel\", \"Pássaro\", \"Gato\", \"Bebida\", \"Cachorro\", \"Sapo\", \"Cavalo\", \"Navio\", \"Caminhão\"]"
      ],
      "execution_count": null,
      "outputs": []
    },
    {
      "cell_type": "code",
      "metadata": {
        "id": "xq7CJFwAPc6h"
      },
      "source": [
        "#Função para imprimir a imagem\n",
        "def plot_sample(X, y, index):\n",
        "    plt.figure(figsize = (15,2))\n",
        "    plt.imshow(X[index])\n",
        "    plt.xlabel(classes[y[index]])"
      ],
      "execution_count": null,
      "outputs": []
    },
    {
      "cell_type": "code",
      "metadata": {
        "colab": {
          "base_uri": "https://localhost:8080/",
          "height": 173
        },
        "id": "g95W55DgPc8x",
        "outputId": "dda23326-e82b-4cc4-d4da-7ebe63eb6c27"
      },
      "source": [
        "plot_sample(X_train, y_train, 0)"
      ],
      "execution_count": null,
      "outputs": [
        {
          "output_type": "display_data",
          "data": {
            "image/png": "[encoded data removed]",
            "text/plain": [
              "<Figure size 1080x144 with 1 Axes>"
            ]
          },
          "metadata": {
            "tags": [],
            "needs_background": "light"
          }
        }
      ]
    },
    {
      "cell_type": "code",
      "metadata": {
        "id": "zuz6vlUYPp9Y"
      },
      "source": [
        "#Normalizando os dados de treinamento\n",
        "X_train = X_train / 255.0\n",
        "X_test = X_test / 255.0"
      ],
      "execution_count": null,
      "outputs": []
    },
    {
      "cell_type": "code",
      "metadata": {
        "colab": {
          "base_uri": "https://localhost:8080/"
        },
        "id": "jbwYDshGPp_o",
        "outputId": "fc43831c-e6e6-4330-c95b-dde916e55501"
      },
      "source": [
        "#Rede neural artificial para classificação de imagem\n",
        "ann = models.Sequential([\n",
        "        layers.Flatten(input_shape=(32,32,3)),\n",
        "        layers.Dense(3000, activation='relu'),\n",
        "        layers.Dense(1000, activation='relu'),\n",
        "        layers.Dense(10, activation='sigmoid')    \n",
        "    ])\n",
        "\n",
        "ann.compile(optimizer='SGD',\n",
        "              loss='sparse_categorical_crossentropy',\n",
        "              metrics=['accuracy'])\n",
        "\n",
        "ann.fit(X_train, y_train, epochs=5)"
      ],
      "execution_count": null,
      "outputs": [
        {
          "output_type": "stream",
          "text": [
            "Epoch 1/5\n",
            "1563/1563 [==============================] - 85s 54ms/step - loss: 1.9242 - accuracy: 0.3079\n",
            "Epoch 2/5\n",
            "1563/1563 [==============================] - 85s 54ms/step - loss: 1.6441 - accuracy: 0.4192\n",
            "Epoch 3/5\n",
            "1563/1563 [==============================] - 84s 54ms/step - loss: 1.5552 - accuracy: 0.4511\n",
            "Epoch 4/5\n",
            "1563/1563 [==============================] - 86s 55ms/step - loss: 1.4836 - accuracy: 0.4788\n",
            "Epoch 5/5\n",
            "1563/1563 [==============================] - 86s 55ms/step - loss: 1.4491 - accuracy: 0.4924\n"
          ],
          "name": "stdout"
        },
        {
          "output_type": "execute_result",
          "data": {
            "text/plain": [
              "<tensorflow.python.keras.callbacks.History at 0x7fec4a1cf290>"
            ]
          },
          "metadata": {
            "tags": []
          },
          "execution_count": 35
        }
      ]
    },
    {
      "cell_type": "code",
      "metadata": {
        "colab": {
          "base_uri": "https://localhost:8080/"
        },
        "id": "Ifbd7A4pPvdJ",
        "outputId": "e34a420e-b971-437e-b0f1-171f090cf8e4"
      },
      "source": [
        "#Relatório de classificação\n",
        "\n",
        "from sklearn.metrics import confusion_matrix , classification_report\n",
        "import numpy as np\n",
        "y_pred = ann.predict(X_test)\n",
        "y_pred_classes = [np.argmax(element) for element in y_pred]\n",
        "\n",
        "print(\"Classification Report: \\n\", classification_report(y_test, y_pred_classes))"
      ],
      "execution_count": null,
      "outputs": [
        {
          "output_type": "stream",
          "text": [
            "Classification Report: \n",
            "               precision    recall  f1-score   support\n",
            "\n",
            "           0       0.47      0.66      0.54      1000\n",
            "           1       0.64      0.57      0.61      1000\n",
            "           2       0.36      0.30      0.33      1000\n",
            "           3       0.42      0.21      0.28      1000\n",
            "           4       0.40      0.42      0.41      1000\n",
            "           5       0.47      0.30      0.37      1000\n",
            "           6       0.34      0.82      0.48      1000\n",
            "           7       0.67      0.41      0.50      1000\n",
            "           8       0.71      0.50      0.59      1000\n",
            "           9       0.58      0.56      0.57      1000\n",
            "\n",
            "    accuracy                           0.47     10000\n",
            "   macro avg       0.51      0.47      0.47     10000\n",
            "weighted avg       0.51      0.47      0.47     10000\n",
            "\n"
          ],
          "name": "stdout"
        }
      ]
    },
    {
      "cell_type": "code",
      "metadata": {
        "id": "m9ymoU41PvgY"
      },
      "source": [
        "#Rede Neural Convolucional\n",
        "cnn = models.Sequential([\n",
        "                         \n",
        "    #Filtros para detectção da imagem                     \n",
        "    layers.Conv2D(filters=32, kernel_size=(3, 3), activation='relu', input_shape=(32, 32, 3)),\n",
        "    layers.MaxPooling2D((2, 2)),\n",
        "    \n",
        "    layers.Conv2D(filters=64, kernel_size=(3, 3), activation='relu'),\n",
        "    layers.MaxPooling2D((2, 2)),\n",
        "    \n",
        "    layers.Flatten(),\n",
        "    layers.Dense(64, activation='relu'),\n",
        "    layers.Dense(10, activation='softmax')\n",
        "])"
      ],
      "execution_count": null,
      "outputs": []
    },
    {
      "cell_type": "code",
      "metadata": {
        "id": "rgCmOsxkPvkI"
      },
      "source": [
        "#Modelo usual de compilação\n",
        "cnn.compile(optimizer='adam',\n",
        "              loss='sparse_categorical_crossentropy',\n",
        "              metrics=['accuracy'])"
      ],
      "execution_count": null,
      "outputs": []
    },
    {
      "cell_type": "code",
      "metadata": {
        "colab": {
          "base_uri": "https://localhost:8080/"
        },
        "id": "ml0cSnN3PvnL",
        "outputId": "e7886314-0213-4578-8aa8-2d043132ba65"
      },
      "source": [
        "cnn.fit(X_train, y_train, epochs=10)"
      ],
      "execution_count": null,
      "outputs": [
        {
          "output_type": "stream",
          "text": [
            "Epoch 1/10\n",
            "1563/1563 [==============================] - 51s 33ms/step - loss: 1.7136 - accuracy: 0.3757\n",
            "Epoch 2/10\n",
            "1563/1563 [==============================] - 51s 33ms/step - loss: 1.1707 - accuracy: 0.5862\n",
            "Epoch 3/10\n",
            "1563/1563 [==============================] - 51s 33ms/step - loss: 1.0106 - accuracy: 0.6450\n",
            "Epoch 4/10\n",
            "1563/1563 [==============================] - 51s 33ms/step - loss: 0.9212 - accuracy: 0.6793\n",
            "Epoch 5/10\n",
            "1563/1563 [==============================] - 51s 32ms/step - loss: 0.8423 - accuracy: 0.7075\n",
            "Epoch 6/10\n",
            "1563/1563 [==============================] - 51s 32ms/step - loss: 0.7930 - accuracy: 0.7242\n",
            "Epoch 7/10\n",
            "1563/1563 [==============================] - 51s 33ms/step - loss: 0.7304 - accuracy: 0.7441\n",
            "Epoch 8/10\n",
            "1563/1563 [==============================] - 51s 33ms/step - loss: 0.6796 - accuracy: 0.7614\n",
            "Epoch 9/10\n",
            "1563/1563 [==============================] - 51s 32ms/step - loss: 0.6425 - accuracy: 0.7750\n",
            "Epoch 10/10\n",
            "1563/1563 [==============================] - 51s 33ms/step - loss: 0.5963 - accuracy: 0.7907\n"
          ],
          "name": "stdout"
        },
        {
          "output_type": "execute_result",
          "data": {
            "text/plain": [
              "<tensorflow.python.keras.callbacks.History at 0x7fec4c508850>"
            ]
          },
          "metadata": {
            "tags": []
          },
          "execution_count": 39
        }
      ]
    },
    {
      "cell_type": "code",
      "metadata": {
        "colab": {
          "base_uri": "https://localhost:8080/"
        },
        "id": "tYdfhg5iP3LZ",
        "outputId": "052455e3-46b6-49c2-ecec-13a41d234e99"
      },
      "source": [
        "cnn.evaluate(X_test,y_test)"
      ],
      "execution_count": null,
      "outputs": [
        {
          "output_type": "stream",
          "text": [
            "313/313 [==============================] - 3s 10ms/step - loss: 0.9300 - accuracy: 0.6926\n"
          ],
          "name": "stdout"
        },
        {
          "output_type": "execute_result",
          "data": {
            "text/plain": [
              "[0.9299817085266113, 0.6926000118255615]"
            ]
          },
          "metadata": {
            "tags": []
          },
          "execution_count": 40
        }
      ]
    },
    {
      "cell_type": "code",
      "metadata": {
        "colab": {
          "base_uri": "https://localhost:8080/"
        },
        "id": "r6toXbGrP3OB",
        "outputId": "bbc08baf-b08e-4fc3-cedb-51762936bc28"
      },
      "source": [
        "#Analisar todas as amostras X e obter o Y previsto\n",
        "y_pred = cnn.predict(X_test)\n",
        "y_pred[:5]"
      ],
      "execution_count": null,
      "outputs": [
        {
          "output_type": "execute_result",
          "data": {
            "text/plain": [
              "array([[1.4008881e-03, 3.7625312e-05, 1.1609220e-03, 6.8883282e-01,\n",
              "        2.6839692e-04, 2.9360753e-01, 1.4268993e-02, 2.9203031e-05,\n",
              "        3.6066896e-04, 3.2920449e-05],\n",
              "       [1.4208794e-03, 5.3468138e-01, 8.8122815e-06, 1.9454853e-07,\n",
              "        3.5318863e-08, 6.6293193e-10, 1.3545348e-08, 4.0419199e-08,\n",
              "        4.5165122e-01, 1.2237374e-02],\n",
              "       [9.2047416e-02, 6.0116056e-02, 4.2555510e-04, 7.6847419e-04,\n",
              "        2.0774930e-04, 2.2189667e-04, 1.5248189e-04, 7.5171702e-04,\n",
              "        8.3219516e-01, 1.3113430e-02],\n",
              "       [9.8173761e-01, 2.4162673e-03, 4.0617720e-03, 2.0169734e-03,\n",
              "        5.9573534e-03, 8.8614597e-06, 4.2674310e-06, 8.3146855e-04,\n",
              "        2.9509312e-03, 1.4427063e-05],\n",
              "       [5.5876757e-07, 2.9235796e-05, 1.5146385e-01, 1.9385542e-01,\n",
              "        4.6789303e-01, 5.9558667e-02, 1.2677565e-01, 1.4006668e-04,\n",
              "        1.1438023e-05, 2.7198353e-04]], dtype=float32)"
            ]
          },
          "metadata": {
            "tags": []
          },
          "execution_count": 41
        }
      ]
    },
    {
      "cell_type": "code",
      "metadata": {
        "colab": {
          "base_uri": "https://localhost:8080/"
        },
        "id": "cg9OBSZbP3Q0",
        "outputId": "87d9cb98-e88d-4198-dd22-b8bc6ee6159d"
      },
      "source": [
        "#Os elementos acima são distribuição de probabilidade, entre 0 e 1, utilizando o softmax\n",
        "#e é necessário descobrir qual elemento é o maior mas ele poderá cometar erros\n",
        "#dependendo da sua precisão\n",
        "y_classes = [np.argmax(element) for element in y_pred]\n",
        "y_classes[:5]"
      ],
      "execution_count": null,
      "outputs": [
        {
          "output_type": "execute_result",
          "data": {
            "text/plain": [
              "[3, 1, 8, 0, 4]"
            ]
          },
          "metadata": {
            "tags": []
          },
          "execution_count": 42
        }
      ]
    },
    {
      "cell_type": "code",
      "metadata": {
        "colab": {
          "base_uri": "https://localhost:8080/"
        },
        "id": "9Si_uUEOPc_t",
        "outputId": "17cf65e6-d203-4e24-d707-4543febf8a5f"
      },
      "source": [
        "#Valor real, levando em conta a classes de elementos\n",
        "y_test[:5]"
      ],
      "execution_count": null,
      "outputs": [
        {
          "output_type": "execute_result",
          "data": {
            "text/plain": [
              "array([3, 8, 8, 0, 6], dtype=uint8)"
            ]
          },
          "metadata": {
            "tags": []
          },
          "execution_count": 43
        }
      ]
    },
    {
      "cell_type": "code",
      "metadata": {
        "colab": {
          "base_uri": "https://localhost:8080/",
          "height": 35
        },
        "id": "jCPHIWQUQABL",
        "outputId": "df04684e-7c92-485d-8ce3-d67bad3f4bd3"
      },
      "source": [
        "classes[y_classes[3]]"
      ],
      "execution_count": null,
      "outputs": [
        {
          "output_type": "execute_result",
          "data": {
            "application/vnd.google.colaboratory.intrinsic+json": {
              "type": "string"
            },
            "text/plain": [
              "'Avião'"
            ]
          },
          "metadata": {
            "tags": []
          },
          "execution_count": 45
        }
      ]
    },
    {
      "cell_type": "code",
      "metadata": {
        "id": "Fq85hbh3QADQ",
        "colab": {
          "base_uri": "https://localhost:8080/",
          "height": 173
        },
        "outputId": "b6aecb00-9850-4823-bd0b-379752e22d8e"
      },
      "source": [
        "#Resultado:\n",
        "plot_sample(X_test, y_test,3)"
      ],
      "execution_count": null,
      "outputs": [
        {
          "output_type": "display_data",
          "data": {
            "image/png": "[encoded data removed]",
            "text/plain": [
              "<Figure size 1080x144 with 1 Axes>"
            ]
          },
          "metadata": {
            "tags": [],
            "needs_background": "light"
          }
        }
      ]
    },
    {
      "cell_type": "code",
      "metadata": {
        "id": "09NMQ2tnQAFx"
      },
      "source": [
        ""
      ],
      "execution_count": null,
      "outputs": []
    },
    {
      "cell_type": "code",
      "metadata": {
        "id": "uj9WxxyEQAIf"
      },
      "source": [
        ""
      ],
      "execution_count": null,
      "outputs": []
    }
  ]
}